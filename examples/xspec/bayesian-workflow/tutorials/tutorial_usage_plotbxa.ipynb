{
 "cells": [
  {
   "cell_type": "markdown",
   "id": "5223fe0b",
   "metadata": {},
   "source": [
    "# PlotBXA example \n",
    "\n",
    "## Basic BXA usage with Xspec & additional plotting\n",
    "\n",
    "This notebook aims to illustrate additional plotting features for BXA fitting results, as implemented in the PlotBXA class. The methods of this class will be demonstrated in a basic example of BXA fitting. For details on BXA usage and the underlying fitting algorithm please see refer to Johannes Buchner's detailed [BXA documentation](https://johannesbuchner.github.io/BXA/index.html) and [UltraNest documentation](https://johannesbuchner.github.io/UltraNest/readme.html), which also contain several useful examples. \n",
    "\n",
    "An overview of tutorials on BXA usage can be found [here](https://johannesbuchner.github.io/BXA/tutorials.html). The methods in PlotBXA are extensions of the built-in methods of UltraNest and BXA. Furthermore, they are strongly based on the [excellent tutorial](https://peterboorman.com/tutorial_bxa) by Peter Boorman. As for the classes defined in PlotXspec, some users may find it more helpful to use these methods as a template for their own plotting.\n",
    "\n",
    "_Please note_: this notebook relates to BXA, for examples of PyXspec and the PlotXspec class, please see the notebook [_tutorial_usage_plotxspec_](https://johannesbuchner.github.io/BXA/tutorial_usage_plotxspec.html). The notebooks both fit the same datasets, but with different methodologies.\n",
    "\n",
    "\n",
    "#### This notebook is structured as follows\n",
    "1) Single spectrum & single model\n",
    "2) Single spectrum & multiple models: model comparison\n",
    "    - Example running multiple processes\n",
    "3) Multiple spectra\n",
    "4) Additional plotting examples\n",
    "\n",
    "---\n",
    "This notebook was tested with:\n",
    "- HEASOFT 6.33.1\n",
    "- Python 3.11.4\n",
    "- BXA 4.1.1\n",
    "- UltraNest 3.6.1"
   ]
  },
  {
   "cell_type": "code",
   "execution_count": null,
   "id": "83bea1a6",
   "metadata": {
    "scrolled": true
   },
   "outputs": [],
   "source": [
    "# load the required modules\n",
    "import xspec\n",
    "import bxa.xspec as bxa\n",
    "from bxa.xspec.solver import XSilence  #<= very useful in suppressing unneeded XSpec output\n",
    "import ultranest.plot as upl\n",
    "\n",
    "import os,sys\n",
    "\n",
    "# Create an instance of the PlotBXA class\n",
    "sys.path.append(os.getcwd()+'/..')\n",
    "from plot_bxa import PlotBXA\n",
    "pbx = PlotBXA() # NOTE: all PlotXspec methods are also accessible through PlotBXA"
   ]
  },
  {
   "cell_type": "code",
   "execution_count": null,
   "id": "8bb77aee",
   "metadata": {},
   "outputs": [],
   "source": [
    "# initial setup for XSpec\n",
    "xspec.Fit.statMethod = \"cstat\" #<= BXA is designed to work in the low-count regime and requires Xspec to use C-statistics\n",
    "xspec.Xset.abund = 'wilm' # Wilms et al. '00'\n",
    "xspec.Xset.xsect = 'vern' # Verner et al. '96'\n",
    "xspec.Xset.cosmo = '70 0 0.73'"
   ]
  },
  {
   "cell_type": "code",
   "execution_count": null,
   "id": "1d58bc64",
   "metadata": {},
   "outputs": [],
   "source": [
    "# store the path of the main directory\n",
    "maindir = os.getcwd()"
   ]
  },
  {
   "cell_type": "markdown",
   "id": "8866b20b",
   "metadata": {},
   "source": [
    "## 1) Single spectrum & single model"
   ]
  },
  {
   "cell_type": "markdown",
   "id": "d01c3de0",
   "metadata": {},
   "source": [
    "The simplest example is to load a single spectrum into XSpec and fit it with a model using BXA. This example will allow us to demonstrate most of PlotBXA's functionality. As an example, we will use simulated Athena data."
   ]
  },
  {
   "cell_type": "code",
   "execution_count": null,
   "id": "ba8fa27b",
   "metadata": {
    "scrolled": true
   },
   "outputs": [],
   "source": [
    "# load data\n",
    "#\n",
    "# In the following we will change the working directory to example_data/xmm/ as it is\n",
    "# easier to work in the directory where the spectra are stored, particularly when (re-)loading\n",
    "# files into XSpec\n",
    "\n",
    "with XSilence():\n",
    "    # Load the data\n",
    "    xspec.AllData.clear()\n",
    "    xspec.AllModels.clear()\n",
    "    \n",
    "    # Move to the working directory\n",
    "    if 'athena' not in os.getcwd():\n",
    "        os.chdir(os.path.join(maindir,'example_data/athena/'))\n",
    "\n",
    "    epicfn = 'example-file.fak'\n",
    "    xspec.AllData(f\"{epicfn}\")\n",
    "\n",
    "    # Spectral range\n",
    "    xspec.AllData.notice('all')\n",
    "    xspec.AllData.ignore('bad')\n",
    "    xspec.AllData(1).ignore('**-1.0 10.0-**')\n",
    "    \n",
    "xspec.AllData.show()"
   ]
  },
  {
   "cell_type": "code",
   "execution_count": null,
   "id": "bee95f01",
   "metadata": {},
   "outputs": [],
   "source": [
    "# Quick first look at the spectrum (all the methods from PyXspec can\n",
    "# still be accessed from PlotBXA instances)\n",
    "pbx.first_look(ymin=-0.05,ymax=2.5,ylog=False,\n",
    "               rebinsig=5,rebinbnum=20)"
   ]
  },
  {
   "cell_type": "code",
   "execution_count": null,
   "id": "60e301f6",
   "metadata": {},
   "outputs": [],
   "source": [
    "# Define a model to fit the data\n",
    "with XSilence():\n",
    "    xspec.AllModels += (\"wabs*powerlaw\")\n",
    "    mod = xspec.AllModels(1)\n",
    "\n",
    "    mod.wabs.nH.values  = (1., 0.01, 1e-3, 1e-3, 50., 50.)\n",
    "\n",
    "    mod.powerlaw.PhoIndex.values = (1.7, 0.1, 0., 0., 3., 3.)\n",
    "    mod.powerlaw.norm.values = (1.e-1, 0.01, 1.e-3, 1.e-3, 5e-1, 5e-1)\n",
    "    \n",
    "xspec.AllModels.show()"
   ]
  },
  {
   "cell_type": "code",
   "execution_count": null,
   "id": "be68969f",
   "metadata": {},
   "outputs": [],
   "source": [
    "# Define the priors for the variable parameters\n",
    "#\n",
    "# We pass every parameter by name to a single prior function.\n",
    "# For the parameter ranges below, we define log-uniform priors,\n",
    "# to more efficiently traverse the parameter space\n",
    "p1 = bxa.create_uniform_prior_for(mod, mod.wabs.nH)\n",
    "p2 = bxa.create_uniform_prior_for(mod, mod.powerlaw.PhoIndex)\n",
    "p3 = bxa.create_loguniform_prior_for(mod, mod.powerlaw.norm)\n",
    "\n",
    "# Create a BXA solver using the priors\n",
    "solver = bxa.BXASolver(transformations=[p1,p2,p3],\n",
    "                       outputfiles_basename=\"wabs_pl\") #<= this will be the name of the directory where all\n",
    "                                                       #   BXA output is stored (this name must be unique)"
   ]
  },
  {
   "cell_type": "markdown",
   "id": "cd28a251",
   "metadata": {},
   "source": [
    "### Prior predictive checks\n",
    "\n",
    "Before we continue to the fit, it is good to check the priors are suitable. Do the parameter ranges provide sufficient space for the model to match the data?"
   ]
  },
  {
   "cell_type": "code",
   "execution_count": null,
   "id": "522e8d3a",
   "metadata": {},
   "outputs": [],
   "source": [
    "# Let's have a look at the distribution of the parameters in linear space. What do the log-uniform\n",
    "# priors look like? Do they cover the specified range?\n",
    "with XSilence():\n",
    "    pbx.plot_overview_priors(solver,\n",
    "                             nsample=5000,nbins=25,\n",
    "                             convert_log=True)"
   ]
  },
  {
   "cell_type": "code",
   "execution_count": null,
   "id": "bb435d3a",
   "metadata": {},
   "outputs": [],
   "source": [
    "# What are the spectral shapes that can be covered based on our specified priors?\n",
    "#\n",
    "# The range of the potential models (plotted in red) should cover the shape of the spectrum;\n",
    "# based on these results we can adjust the priors as necessary. If the data are not well\n",
    "# matched, we either need a better model, or broader priors. If the range covers the data,\n",
    "# but is also very wide, we could reduce the width of (some of) the priors, to reduce the\n",
    "# calculation time when fitting.\n",
    "\n",
    "with XSilence():\n",
    "    pbx.plot_model_instances(solver,\n",
    "                             nsample=25, #<= This sets the number of instances of the model we want to plot\n",
    "                             ymin=1e-3,\n",
    "                             rebinsig=5,\n",
    "                             rebinbnum=20)"
   ]
  },
  {
   "cell_type": "markdown",
   "id": "238950b0",
   "metadata": {},
   "source": [
    "### Run the fit"
   ]
  },
  {
   "cell_type": "code",
   "execution_count": null,
   "id": "2b0acdee",
   "metadata": {},
   "outputs": [],
   "source": [
    "with XSilence():\n",
    "     results = solver.run(resume=True) #<= Setting resume to True will allow the solver to resume operation\n",
    "                                       #   from a previously saved run. This can save a lot of time."
   ]
  },
  {
   "cell_type": "markdown",
   "id": "0088819f",
   "metadata": {},
   "source": [
    "### Evaluate the posteriors"
   ]
  },
  {
   "cell_type": "code",
   "execution_count": null,
   "id": "437942c0",
   "metadata": {},
   "outputs": [],
   "source": [
    "# Let us look at the result of the fit. We can plot the data, best fit, and a prediction-band showing the\n",
    "# posterior of the fit\n",
    "with XSilence():\n",
    "    pbx.plot_data_and_predictionbands(solver,\n",
    "                                      setxminorticks=[1.2,2,3,4,6],\n",
    "                                      quantile=0.495, #<= 99% quantile in orange band (1-sigma in light red)\n",
    "                                      ymin=1e-3,\n",
    "                                      rebinsig=5,\n",
    "                                      rebinbnum=10)"
   ]
  },
  {
   "cell_type": "code",
   "execution_count": null,
   "id": "699f64a0",
   "metadata": {},
   "outputs": [],
   "source": [
    "# What are the posterior distributions of the individual parameters?\n",
    "upl.cornerplot(results)"
   ]
  },
  {
   "cell_type": "code",
   "execution_count": null,
   "id": "12428f7c",
   "metadata": {},
   "outputs": [],
   "source": [
    "pbx.plot_overview_posteriors(solver,convert_log=True)"
   ]
  },
  {
   "cell_type": "code",
   "execution_count": null,
   "id": "88f68c1a",
   "metadata": {},
   "outputs": [],
   "source": [
    "# And what is the posterior distribution of the flux?\n",
    "with XSilence():\n",
    "    pbx.plot_posterior_flux(solver,fluxrange=(1.0,5.0),printq=True)"
   ]
  },
  {
   "cell_type": "markdown",
   "id": "35a6ec9f",
   "metadata": {},
   "source": [
    "For the methods displaying the posterior distributions (plot_overview_posteriors and plot_posterior_flux), it is possible to specify the displayed uncertainty using the 'quantile' keyword argument. For example, setting quantile=0.45 will show the 90% uncertainty margins; default is quantile=0.341, 1$\\sigma$ uncertainties.\n",
    "\n",
    "The values of the mean and the selected uncertainty can be printed or returned, by setting the keyword arguments printq and return_val to True, respectively."
   ]
  },
  {
   "cell_type": "markdown",
   "id": "9422e022",
   "metadata": {},
   "source": [
    "###  Quantile-Quantile Plots\n",
    "\n",
    "A helpful way of evaluating the quality of a fit is a quantile-quantile plot, which compares the cumulative distribution functions of the data and the model. The method ```plot_qq``` is in addition to the built-in ```bxa.xspec.qq``` method. ```plot_qq_difference``` presents the difference of the normalised cumulative distribution functions (data - model) plotted against energy; this can be of use in identifying where model and data diverge. \n",
    "\n",
    "When plotting the difference QQ plot, it is also posisble to include simulated data. The grey shade in the plot below indicates the intrinsic scatter in the data: assuming that the best-fit model is the 'real' representation of the data, we simulate a sample of spectra within the uncertainties of the data and calculate the normalised difference in the cumulative distributions. If the range in model uncertainties (in yellow/orange) lies within the range set by the uncertainties of the data (in grey), this is an indication the model suits the data well. The grey band represents 1$\\sigma$ in the distribution of the simulated spectra."
   ]
  },
  {
   "cell_type": "code",
   "execution_count": null,
   "id": "87b2d994",
   "metadata": {},
   "outputs": [],
   "source": [
    "with XSilence():\n",
    "    pbx.plot_qq(solver,\n",
    "                quantile=0.495) #<= include a shaded band showing 99% of the posterior distributions"
   ]
  },
  {
   "cell_type": "code",
   "execution_count": null,
   "id": "6a205741",
   "metadata": {},
   "outputs": [],
   "source": [
    "with XSilence():\n",
    "    pbx.plot_qq_difference(solver,\n",
    "                           sim_data=True,nsample=500, #<= include simulated results, based on spectra created with\n",
    "                           quantile=0.495)            #   XSpec's fakeit. This shows the expected distribution _if_\n",
    "                                                      #   the current model were a perfect representation of the data"
   ]
  },
  {
   "cell_type": "markdown",
   "id": "13ebab5a",
   "metadata": {},
   "source": [
    "### Posterior predictive checks\n",
    "\n",
    "We can also use simulated spectra to evaluate the likelihood of our fit. We again similulate a number of spectra (set with the nsample keyword argument), based on the assumption that the best-fit model represents the 'real' data. For each of the simulated spectra we calculate the likelihood of the best-fit model (which remains fixed; this is the model as it was fit to the _real_ data). This gives an estimate of how well our fit approached the distribution underlying the data. If the likelihood of the best-fit model for the real data aligns with the centre of the distribution of likelihoods for the simulated spectra, the model represents a reasonable fit wihtin the uncertainties of the spectrum.\n",
    "\n",
    "The fit statistic used is -log(L), where L is the Poissonian likelihood (see [here](https://heasarc.gsfc.nasa.gov/xanadu/xspec/manual/XSappendixStatistics.html) for more details on the use of C-statistics in XSpec)."
   ]
  },
  {
   "cell_type": "code",
   "execution_count": null,
   "id": "e6185942",
   "metadata": {},
   "outputs": [],
   "source": [
    "with XSilence():\n",
    "    pbx.plot_posterior_mc_likelihood(solver,nsample=2500,colors='b')"
   ]
  },
  {
   "cell_type": "code",
   "execution_count": null,
   "id": "eca97d7c",
   "metadata": {},
   "outputs": [],
   "source": []
  },
  {
   "cell_type": "markdown",
   "id": "b8217914",
   "metadata": {},
   "source": [
    "## 2) Using multiple models\n",
    "\n",
    "One of the strengths of Bayesian analysis is that it provides a statistical method for comparing the relative strengths of models, based on the Bayesian 'evidence' (the likelihood marginalised over the free parameters). Fitting multiple models to the data and comparing the results provides a useful way of analysing a dataset. PlotBXA's methods are set up with this use in mind.\n",
    "\n",
    "We will make use of the same data as in Section 1), a single simulated Athena spectrum of an obscured AGN. As we saw in the results of our simple fit in the previous section, there are considerable residuals in this first fit. We will therefore test several models and compare the results using a Bayesian framework. We can use the visualisations of the fits, QQ plots, and the posterior predictive checks to visualise the relative quality of the fits, including comparisons with simulated data. A section below provides some more detail on Bayesian evidence.\n",
    "\n",
    "We will define three models to compare: the absportpion + PL models from Section 1, an alternative model where the X-ray flux is generated by a blackbody, and a model that includes an Fe K$\\alpha$ line. Of these, we expect the latter of the three to provide the best fit, as this is the model that was used to generate the data. \n",
    "\n",
    "#### Note on PlotBXA usage\n",
    "\n",
    "As will become clear in the example below, there is a slight change in the way we define models when using PlotBXA in the context of multiple possible models (this is because it is impossible to activate/deactivate an XSpec model directly using PyXSpec). To allow us to switch quickly between different models, we therefore define models within Python functions, which can be quickly called whenever needed and can be passed to PlotBXA's methods."
   ]
  },
  {
   "cell_type": "code",
   "execution_count": null,
   "id": "ff13d0c6",
   "metadata": {},
   "outputs": [],
   "source": [
    "# Load the data\n",
    "with XSilence():\n",
    "    xspec.AllData.clear()\n",
    "    xspec.AllModels.clear()\n",
    "\n",
    "    olddir = os.getcwd()\n",
    "    if 'athena' not in os.getcwd():\n",
    "        os.chdir(os.path.join(maindir,'example_data/athena/'))\n",
    "\n",
    "    epicfn = 'example-file.fak'\n",
    "    xspec.AllData(f\"{epicfn}\")\n",
    "\n",
    "    # Spectral range\n",
    "    xspec.AllData.notice('all')\n",
    "    xspec.AllData.ignore('bad')\n",
    "    xspec.AllData(1).ignore('**-1.0 10.0-**')\n",
    "    \n",
    "xspec.AllData.show()"
   ]
  },
  {
   "cell_type": "code",
   "execution_count": null,
   "id": "6f622510",
   "metadata": {},
   "outputs": [],
   "source": [
    "# Define the models; these will now be embedded in Python functions. \n",
    "# PLEASE NOTE: for the PlotBXA methods to work correctly, the functions\n",
    "# must always return an XSpec model instance and the name of the model.\n",
    "# These are necessary to correctly access the model in XSpec and \n",
    "# (re-)activate it whenever required\n",
    "\n",
    "def activate_mod1():\n",
    "    # This is the model we used in Section 1)\n",
    "    model_name = 'mod1'\n",
    "    xspec.AllModels += (\"wabs*powerlaw\",model_name)\n",
    "    mod = xspec.AllModels(1,model_name)\n",
    "\n",
    "    mod.wabs.nH.values  = (1., 0.01, 1e-3, 1e-3, 50., 50.)\n",
    "\n",
    "    mod.powerlaw.PhoIndex.values = (1.7, 0.1, 0., 0., 3., 3.)\n",
    "    mod.powerlaw.norm.values = (1.e-1, 0.01, 1.e-3, 1.e-3, 5e-1, 5e-1)\n",
    "    \n",
    "    return mod,model_name\n",
    "\n",
    "def activate_mod2():\n",
    "    # black-body instead of power-law\n",
    "    model_name = 'mod2'\n",
    "    xspec.AllModels += (\"wabs*bbody\",model_name)\n",
    "    mod = xspec.AllModels(1,model_name)\n",
    "\n",
    "    mod.wabs.nH.values  = (1., 0.01, 1e-3, 1e-3, 50., 50.)\n",
    "    \n",
    "    mod.bbody.kT.values = (20, 0.01, 1e-1,  1e-1, 200., 200.)\n",
    "    mod.bbody.norm.values = (1e-3, 0.01, 1e-6,  1e-6, 1e-1, 1e-1)\n",
    "    \n",
    "    return mod, model_name\n",
    "\n",
    "def activate_mod3():\n",
    "    # same as mod1, but with added FeK\n",
    "    model_name = 'mod3'\n",
    "    xspec.AllModels += (\"wabs*powerlaw + gauss\",model_name)\n",
    "    mod = xspec.AllModels(1,model_name)\n",
    "\n",
    "    mod.wabs.nH.values  = (1., 0.01, 1e-3, 1e-3, 50., 50.)\n",
    "\n",
    "    mod.powerlaw.PhoIndex.values = (1.7, 0.1, 0., 0., 3., 3.)\n",
    "    mod.powerlaw.norm.values = (1.e-1, 0.01, 1.e-3, 1.e-3, 5e-1, 5e-1)\n",
    "    \n",
    "    mod.gaussian.LineE.values = (6.4, -1)  #<= Fix as K-alpha\n",
    "    mod.gaussian.Sigma.values = (0.1, 0.01, 0.01, 0.01, 2., 2.)\n",
    "    mod.gaussian.norm.values  = (1e-4, 0.01, 1e-6, 1e-6, 1e-1, 1e-1)\n",
    "    \n",
    "    return mod, model_name\n"
   ]
  },
  {
   "cell_type": "code",
   "execution_count": null,
   "id": "89b861d6",
   "metadata": {},
   "outputs": [],
   "source": [
    "# Let us load the models in XSpec. As you will see from the XSpec output, only one\n",
    "# of the models will be active at any given time\n",
    "with XSilence():\n",
    "    mod1,_ = activate_mod1()\n",
    "    mod2,_ = activate_mod2()\n",
    "    mod3,_ = activate_mod3()\n",
    "    \n",
    "xspec.AllModels.show()"
   ]
  },
  {
   "cell_type": "code",
   "execution_count": null,
   "id": "4b136381",
   "metadata": {},
   "outputs": [],
   "source": [
    "# We will now define the priors and solvers for each of the three models\n",
    "\n",
    "# Model 1\n",
    "print('Model 1')\n",
    "m1p1 = bxa.create_loguniform_prior_for(mod1, mod1.wabs.nH)\n",
    "m1p2 = bxa.create_uniform_prior_for(mod1, mod1.powerlaw.PhoIndex)\n",
    "m1p3 = bxa.create_loguniform_prior_for(mod1, mod1.powerlaw.norm)\n",
    "\n",
    "solver1 = bxa.BXASolver(transformations=[m1p1,m1p2,m1p3],\n",
    "                        outputfiles_basename=\"mod1_wabs-pl\")\n",
    "\n",
    "# Model 2\n",
    "print('\\nModel 2')\n",
    "m2p1 = bxa.create_loguniform_prior_for(mod2, mod2.wabs.nH)\n",
    "m2p2 = bxa.create_loguniform_prior_for(mod2, mod2.bbody.kT)\n",
    "m2p3 = bxa.create_loguniform_prior_for(mod2, mod2.bbody.norm)\n",
    "\n",
    "solver2 = bxa.BXASolver(transformations=[m2p1,m2p2,m2p3],\n",
    "                        outputfiles_basename=\"mod2_wabs-bb\")\n",
    "\n",
    "# Model 3\n",
    "print('\\nModel 3')\n",
    "m3p1 = bxa.create_loguniform_prior_for(mod3, mod3.wabs.nH)\n",
    "m3p2 = bxa.create_uniform_prior_for(mod3, mod3.powerlaw.PhoIndex)\n",
    "m3p3 = bxa.create_loguniform_prior_for(mod3, mod3.powerlaw.norm)\n",
    "m3p4 = bxa.create_uniform_prior_for(mod3, mod3.gaussian.Sigma)\n",
    "m3p5 = bxa.create_loguniform_prior_for(mod3, mod3.gaussian.norm)\n",
    "\n",
    "solver3 = bxa.BXASolver(transformations=[m3p1, m3p2, m3p3, m3p4, m3p5],\n",
    "                        outputfiles_basename=\"mod3_wabs-bb-g\")"
   ]
  },
  {
   "cell_type": "markdown",
   "id": "c999b140",
   "metadata": {},
   "source": [
    "### Now we can follow the same procedure as set out in Section 1), only for multiple models at the same time"
   ]
  },
  {
   "cell_type": "code",
   "execution_count": null,
   "id": "d4ee54fd",
   "metadata": {},
   "outputs": [],
   "source": [
    "# we can make an overview of the priors\n",
    "with XSilence():\n",
    "    pbx.plot_overview_priors([solver1,solver2,solver3],\n",
    "                             nsample=1000,nbins=25,\n",
    "                             convert_log=True)"
   ]
  },
  {
   "cell_type": "code",
   "execution_count": null,
   "id": "449484d6",
   "metadata": {},
   "outputs": [],
   "source": [
    "# ... and look at the possible models as predictive checks\n",
    "with XSilence():\n",
    "    pbx.plot_model_instances([solver1,solver2,solver3],\n",
    "                             models=[activate_mod1,activate_mod2,activate_mod3], #<= This will be a regular input for\n",
    "                             nsample=50,print_values=False,                      #   for the BXA methods. It allows\n",
    "                             ymin=1e-3,                                          #   us to switch among models.\n",
    "                             rebinsig=5,rebinbnum=20)"
   ]
  },
  {
   "cell_type": "markdown",
   "id": "155f1512",
   "metadata": {},
   "source": [
    "#### run the fits"
   ]
  },
  {
   "cell_type": "code",
   "execution_count": null,
   "id": "0d50115f",
   "metadata": {},
   "outputs": [],
   "source": [
    "# Model 1\n",
    "with XSilence():\n",
    "    mod1,_ = activate_mod1()            #<= Here we re-activate the XSpec model...\n",
    "    for t in solver1.transformations:   #<= ... and here we point the solver back to the correct\n",
    "        t['model'] = mod1               #       instance of the model\n",
    "\n",
    "    results1 = solver1.run(resume=True)"
   ]
  },
  {
   "cell_type": "code",
   "execution_count": null,
   "id": "db2882b9",
   "metadata": {},
   "outputs": [],
   "source": [
    "# Model 2\n",
    "with XSilence():\n",
    "    mod2,_ = activate_mod2()\n",
    "    for t in solver2.transformations:\n",
    "        t['model'] = mod2\n",
    "\n",
    "    results2 = solver2.run(resume=True)"
   ]
  },
  {
   "cell_type": "code",
   "execution_count": null,
   "id": "901bd9e1",
   "metadata": {},
   "outputs": [],
   "source": [
    "# Model 3\n",
    "#\n",
    "# This one might take a while to run: switch it on and take some time for a nice cup of tea. Alternatively, \n",
    "# consider the example set out in mpi_bxa_example.py, to speed up BXA by using multiple cores. \n",
    "with XSilence():\n",
    "    mod3,_ = activate_mod3()\n",
    "    for t in solver3.transformations:\n",
    "        t['model'] = mod3\n",
    "\n",
    "    results3 = solver3.run(resume=True)"
   ]
  },
  {
   "cell_type": "markdown",
   "id": "5fe329e0",
   "metadata": {},
   "source": [
    "#### Visualise the results"
   ]
  },
  {
   "cell_type": "code",
   "execution_count": null,
   "id": "5f2a36f5",
   "metadata": {},
   "outputs": [],
   "source": [
    "# Overview of the fitted models\n",
    "with XSilence():\n",
    "    pbx.plot_data_and_predictionbands([solver1,solver2,solver3],\n",
    "                                      [activate_mod1,activate_mod2,activate_mod3],\n",
    "                                      setxminorticks=[1.2,2,3,4,6],\n",
    "                                      ymin=1e-3,\n",
    "                                      rebinsig=5,rebinbnum=10)"
   ]
  },
  {
   "cell_type": "code",
   "execution_count": null,
   "id": "30603274",
   "metadata": {},
   "outputs": [],
   "source": [
    "# Overview of parameter posteriors\n",
    "pbx.plot_overview_posteriors([solver1,solver2,solver3],convert_log=True)"
   ]
  },
  {
   "cell_type": "code",
   "execution_count": null,
   "id": "7aa467e7",
   "metadata": {},
   "outputs": [],
   "source": [
    "# The corner plots are of course also still available, e.g. for Model 3:\n",
    "upl.cornerplot(results3)"
   ]
  },
  {
   "cell_type": "code",
   "execution_count": null,
   "id": "8773457b",
   "metadata": {
    "scrolled": true
   },
   "outputs": [],
   "source": [
    "# QQ plots\n",
    "with XSilence():\n",
    "    pbx.plot_qq([solver1,solver2,solver3],\n",
    "                models=[activate_mod1,activate_mod2,activate_mod3],\n",
    "                quantile=0.49)"
   ]
  },
  {
   "cell_type": "code",
   "execution_count": null,
   "id": "27f5c92b",
   "metadata": {},
   "outputs": [],
   "source": [
    "with XSilence():\n",
    "    pbx.plot_qq_difference([solver1,solver2,solver3],\n",
    "                           models=[activate_mod1,activate_mod2,activate_mod3],\n",
    "                           sim_data=True,nsample=500, #<= To speed up the process, it is always possible to reduce\n",
    "                           quantile=0.495)            #   nsample (i.e. use fewer simulated spectra for the estimate)"
   ]
  },
  {
   "cell_type": "code",
   "execution_count": null,
   "id": "3fec3704",
   "metadata": {},
   "outputs": [],
   "source": [
    "# posterior predictive checks (using MC estimates)\n",
    "with XSilence():\n",
    "    pbx.plot_posterior_mc_likelihood([solver1,solver2,solver3],\n",
    "                                     models=[activate_mod1,activate_mod2,activate_mod3],\n",
    "                                     nsample=1000,colors=['r','g','b'])"
   ]
  },
  {
   "cell_type": "code",
   "execution_count": null,
   "id": "69688cff",
   "metadata": {},
   "outputs": [],
   "source": [
    "# the fluxes\n",
    "with XSilence():\n",
    "    pbx.plot_posterior_flux([solver1,solver2,solver3],\n",
    "                            models=[activate_mod1,activate_mod2,activate_mod3],\n",
    "                            fluxrange=(1.0,5.0),\n",
    "                            colors=['r','g','b'],\n",
    "                            printq=True)          #<= Print the model fluxes and uncertainties to screen"
   ]
  },
  {
   "cell_type": "code",
   "execution_count": null,
   "id": "a8e4e51c",
   "metadata": {},
   "outputs": [],
   "source": []
  },
  {
   "cell_type": "markdown",
   "id": "15b56b37",
   "metadata": {},
   "source": [
    "### Bayesian evidence\n",
    "\n",
    "Based on the visual inspection of our results, as set out above, it appears that models 1 & 3 both perform better than model 2. With the help of the Bayesian evidence we can put this is a more quanitified way and also investigate the relative strength of models 1 & 3."
   ]
  },
  {
   "cell_type": "code",
   "execution_count": null,
   "id": "6b7966f4",
   "metadata": {},
   "outputs": [],
   "source": [
    "# An overview of some statistics for each of the models. The 'Bayes factor' \n",
    "# is the ratio of the evidence for the two models. And the log-likelihood \n",
    "# and Akaike information criterion (AIC) provide other measures to quantify\n",
    "# the 'strength' of a given fit\n",
    "#\n",
    "# In the results below (where we know the model used to simulate our spectrum)\n",
    "# we would expect 'mod3' to present the strongest evidence\n",
    "\n",
    "pbx.print_bayes_statistics([solver1,solver2,solver3])"
   ]
  },
  {
   "cell_type": "markdown",
   "id": "e768421e",
   "metadata": {},
   "source": [
    "Based on the Bayesian evidence and other statistics presented above, it appears that model 3 provides a better fit than model 1, but is this significant? Based on an inspections of our plots, we would likely intuitively say 'no'. However, we can quantify this. Following this [useful tutorial example](https://peterboorman.com/tutorial/session3.html#ex32), we check the significance of our calculated Bayes-factor against a simulated dataset. \n",
    "\n",
    "For a given pair of models: A & B, say that we want to test whether B is truly better than A. We can test for type 1 & type 2 errors. Testing for type 1 errors (```plot_false_positive_test()```) means we create a sample of fake spectra under the assumption that that model A is correct. We then fit both models to each of the fake spectra and create a range of Bayes factors. We can compare the Bayes factor for the best-fit model to the real data to the distribution of Bayes factors based on the fits to the simulated data. Was the difference between A & B really significant or whas it in fact quite likely to get a slightly smaller factor (i.e. a better fit) for B, even if the data were actually really best described with model A?\n",
    "\n",
    "Similarly, for a type 2 test (```plot_false_negative_test()```) we generate fake spectra assuming that model B is the 'real' model. How likely is it that we find a better evidence for model A, despite the fact that model B is the right one? Using the distribution of Bayes factors from the simulated data, we can assign a significance to the relative strengths of our best-fit models.\n",
    "\n",
    "**Please note**: running the two PlotBXA methods mentioned above involves repeated fitting with BXA of two models. The run time for such a task will almost certainly be beyond even several tea breaks. For this reason, it is advised to use the multi-processing example given below and/or to run such evaluations overnight or on a large, multicore system or cluster. For this reason the examples of running these methods in this notebook are included to illustrate how to call the methods, but commented out in the cells below. An example of the resulting plot has been included in the 'examples' directory of the BXA installation (type1_test_plot.png).\n"
   ]
  },
  {
   "cell_type": "code",
   "execution_count": null,
   "id": "9715049b",
   "metadata": {},
   "outputs": [],
   "source": [
    "## The simple example. This should run without problem and will be the easiest to run \n",
    "## for first-time users. However, given the long run-time, the multi-process example\n",
    "## below is recommended.\n",
    "\n",
    "#nsample = 24                             #<= this will result in 24^2 Bayes factors for the distribution; as reasonable size\n",
    "#solvers = [solver1,solver3]              #<= test whether model 3 (more complex) is really better than model 1 (simpler)\n",
    "                                          #   NOTE: the order is important here: the simulated spectra will now be \n",
    "                                          #         based on the model from solver1\n",
    "#models  = [activate_mod1,activate_mod3]  #<= matches the order of the solvers\n",
    "#spec_prefix = 'tt1_wabs_pl_g'            #<= label for the simulated spectra (prefix of their file name)\n",
    "#bq = 0.9                                 #<= quantile for the distribution of the Bayes factor to show in the plot\n",
    "#with XSilence():\n",
    "#    bayes_quantile = pbx.plot_false_positive_test(existing_data=False,  #<= there are no fit-results in place\n",
    "#                                                  datadir='test_type1', #<= the directory where to store the fit results\n",
    "#                                                  solvers=solvers,\n",
    "#                                                  models=models,\n",
    "#                                                  nsample=nsample,\n",
    "#                                                  spec_prefix=spec_prefix, \n",
    "#                                                  gen_new_spec=True,    #<= generate a set of new simulated spectra\n",
    "#                                                  quantile=bq)"
   ]
  },
  {
   "cell_type": "code",
   "execution_count": null,
   "id": "bf286846",
   "metadata": {},
   "outputs": [],
   "source": [
    "## The simple example for the type-2 test\n",
    "\n",
    "#nsample = 24                             #<= this will result in 24^2 Bayes factors for the distribution; a reasonable sample\n",
    "#solvers = [solver1,solver3]              #<= test whether model 3 (more complex) is really better than model 1 (simpler)\n",
    "                                          #   NOTE: the order is important here: the simulated spectra will now be \n",
    "                                          #         based on the model from solver3\n",
    "#models  = [activate_mod1,activate_mod3]  #<= matches the order of the solvers\n",
    "#spec_prefix = 'tt2_wabs_pl_g'            #<= label for the simulated spectra (prefix of their file name)\n",
    "#bq = 0.9                                 #<= quantile for the distribution of the Bayes factor to show in the plot\n",
    "#with XSilence():\n",
    "#    bayes_quantile = pbx.plot_false_negative_test(existing_data=False,  #<= there are no fit-results in place\n",
    "#                                                  datadir='test_type2', #<= the directory where to store the fit results\n",
    "#                                                  solvers=solvers,\n",
    "#                                                  models=models,\n",
    "#                                                  nsample=nsample,\n",
    "#                                                  spec_prefix=spec_prefix, \n",
    "#                                                  gen_new_spec=True,    #<= generate a set of new simulated spectra\n",
    "#                                                  quantile=bq)"
   ]
  },
  {
   "cell_type": "markdown",
   "id": "38b19121",
   "metadata": {},
   "source": [
    "### 2.1) Simple multi-process example for running several BXA fits simultaneaously"
   ]
  },
  {
   "cell_type": "markdown",
   "id": "1745c93b",
   "metadata": {},
   "source": [
    "##### The quicker option (example here for the type 1 test): \n",
    "- a) generate the fake spectra (this can be done inside the notebook)\n",
    "- b) create the necessary command; the command is then best run in the terminal directly, not in the notebook\n",
    "    - The command will run an external script: parallel_bxa_tt1.py (this script can be found in the BXA installation directory -> examples/xspec/bayesian_workflow/mp_scripts). Additional information on multiprocessing is provided in this script\n",
    "- c) inspect the results by simply loading them in, _after_ all the BXA fitting is done. The left plot shows the probability density of the Bayes factor and the right one the cumulative distribution."
   ]
  },
  {
   "cell_type": "code",
   "execution_count": null,
   "id": "80865606",
   "metadata": {},
   "outputs": [],
   "source": [
    "# a) Create fake spectra (do not run this more than once)\n",
    "#\n",
    "# we make use of one of the private methods of the PlotBXA class. For these there are also docstrings\n",
    "# available: see help(pbx._create_fake_spectra) for further details on the key-word specifications \n",
    "# used below. The command will create 24 spectra based on the model 'mod1' using the best-fit results\n",
    "# from the solver, and store them in the directory 'fakeit_spectra'. This is the required set-up.\n",
    "\n",
    "nsample = 24\n",
    "spec_prefix = 'tt1_wabs_pl_g'\n",
    "sim_dir = 'fakeit_spectra'\n",
    "with XSilence():\n",
    "    _,_ = pbx._create_fake_spectra(solver1,'mod1',\n",
    "                                   nsample=nsample,\n",
    "                                   store_spec=True,\n",
    "                                   spec_prefix=spec_prefix,\n",
    "                                   savedir=sim_dir)"
   ]
  },
  {
   "cell_type": "code",
   "execution_count": null,
   "id": "037ba66a",
   "metadata": {},
   "outputs": [],
   "source": [
    "# b) show the command to be copy-pasted into the terminal (run from the examples directory)\n",
    "#\n",
    "# The terminal command will use xargs to create a number of different processes. \n",
    "# To do so, we need to pass the generated fake spectra as arguments.\n",
    "\n",
    "# create the output directory for the fitting results\n",
    "if not os.path.exists('test_type1'):\n",
    "    os.mkdir('test_type1')\n",
    "\n",
    "# list all simulated spectra\n",
    "list_files = f'ls example_data/athena/fakeit_spectra/{spec_prefix}_{{0..{nsample-1}}}*_0.pha'\n",
    "\n",
    "# sort them lexicographically (this is mainly for well-ordered storage)\n",
    "# the sort argument below splits the filename at the '_' character and \n",
    "# then orders the results numerically based on the 5th element (check the\n",
    "# output of the list_files command to see why this is necessary)\n",
    "sort_files = 'sort -t_ -k5,5n'\n",
    "\n",
    "# set up the multiple processing. The number of processes created is set by max-procs\n",
    "# (please see the note in parallel_bxa_tt1.py on the number of cores to use)\n",
    "nproc = 8\n",
    "run_procs  = f'xargs --max-args=1 --max-procs={nproc} python mp_scripts/parallel_bxa_tt1.py'\n",
    "\n",
    "# BXA generates a lot of output. Rather than printing it to screen, we will store\n",
    "# it in a file\n",
    "output_file  = 'tt1_run.log'\n",
    "\n",
    "print(f'{list_files} | {sort_files} | {run_procs} > {output_file}')"
   ]
  },
  {
   "cell_type": "code",
   "execution_count": null,
   "id": "ca7b0e58",
   "metadata": {},
   "outputs": [],
   "source": [
    "# c) once all the fitting is done, load and plot the results\n",
    "\n",
    "# The likelihood of our best-fit models should indicate that we prefer 'mod3' over\n",
    "#  mod1' (after all, it accounts for the Fe Ka feature). We will now see how likely\n",
    "# it is for 'mod3' to be the preferred model _if 'mod1' represented the real parent\n",
    "# distribution_. By passing 'mod1' as the first element in the array under the\n",
    "# keyword argument mnames, we indicate that this is the model \n",
    "\n",
    "if len(os.listdir(os.path.join(maindir,'example_data/athena/test_type1')))!=0:\n",
    "    # if the command created in the cell above has run correctly...\n",
    "    \n",
    "    bq = 0.9 #<= quantile for the distribution of the Bayes factor to show in the plot\n",
    "    with XSilence():\n",
    "        bayes_quantile = pbx.plot_false_positive_test(existing_data=True,    #<= load existing fit results\n",
    "                                                      datadir='test_type1',  #<= the directory the fit results are stored\n",
    "                                                      mnames=['mod1','mod3'],#<= model names used to store the results\n",
    "                                                      nsample=nsample,\n",
    "                                                      spec_prefix=spec_prefix,\n",
    "                                                      gen_new_spec=False,    #<= DO NOT generate new simulated spectra\n",
    "                                                      quantile=bq,\n",
    "                                                      savename=os.path.join(maindir,'type1_test_plot.png'))\n",
    "\n",
    "    print(f'Cutoff level for a false-positive rate <{(1-bq)*100:.0f}% is a Bayes factor of {bayes_quantile[0]:.2f}')"
   ]
  },
  {
   "cell_type": "code",
   "execution_count": null,
   "id": "0c222427",
   "metadata": {},
   "outputs": [],
   "source": []
  },
  {
   "cell_type": "markdown",
   "id": "44231385",
   "metadata": {},
   "source": [
    "## 3) Fitting multiple spectra\n",
    "\n",
    "We will follow the outline of the exampe for fitting multiple spectra simultaneously from the notebook _tutorial_usage_plotxspec_, using the same simulated XMM-_Newton_ dataset (pn & MOS). This section serves mainly to illustrate the PlotBXA functionality when fitting multiple spectra simultaneously. The required XSpec setup is explained in the PlotXspec tutorial notebook and the usage of the PlotBXA method is virtually identical to the examples provided in the previous sections. Please note that the fitting of the spectra will likely take significantly longer than for the single-spectrum case."
   ]
  },
  {
   "cell_type": "code",
   "execution_count": null,
   "id": "1a59fad1",
   "metadata": {},
   "outputs": [],
   "source": [
    "with XSilence():\n",
    "    # Load the data\n",
    "    xspec.AllData.clear()\n",
    "    xspec.AllModels.clear()\n",
    "\n",
    "    if 'xmm' not in os.getcwd():\n",
    "        os.chdir(os.path.join(maindir,'example_data/xmm/'))\n",
    "\n",
    "    epicfn = 'epic_pn_agn.fak'\n",
    "    mos1fn = 'epic_mos1_agn.fak'\n",
    "    mos2fn = 'epic_mos2_agn.fak'\n",
    "\n",
    "    # load into different data groups\n",
    "    xspec.AllData(f\"1:1 {epicfn} 2:2 {mos1fn} 3:3 {mos2fn}\")\n",
    "\n",
    "    # Spectral range\n",
    "    xspec.AllData.notice('all')\n",
    "    xspec.AllData.ignore('bad')\n",
    "    for ii in range(1,4):\n",
    "        xspec.AllData(ii).ignore('**-0.2 10.0-**')\n",
    "        \n",
    "xspec.AllData.show()"
   ]
  },
  {
   "cell_type": "code",
   "execution_count": null,
   "id": "4025e3bd",
   "metadata": {},
   "outputs": [],
   "source": [
    "# Define models\n",
    "#\n",
    "# Instead of a single model instance, the functions now return a list of all three \n",
    "# XSpec models (for pn, MOS1, and MOS2, respectively). PlotBXA methods are designed\n",
    "# to deal with this format as well.\n",
    "\n",
    "z_opt = 0.015 # <= assume this is known (e.g. from an optical spectrum)\n",
    "\n",
    "def activate_mod1():\n",
    "    model_name = 'mod1'\n",
    "    xspec.AllModels += (\"constant*(zTBabs*zpowerlw)\",model_name)\n",
    "    mod = [xspec.AllModels(ii,model_name) for ii in (1,2,3)]\n",
    "\n",
    "    mod[0].constant.factor.values = (1,-1)  ## constant factor (frozen for pn)\n",
    "    \n",
    "    mod[0].zTBabs.Redshift.values = (z_opt, -1)\n",
    "    mod[0].zTBabs.nH.values = (0.1, 0.01, 1e-3, 1e-3, 50., 50.)\n",
    "\n",
    "    mod[0].zpowerlw.PhoIndex.values = (1.95, -1) #<= fix this to speed up the fitting process (example only)\n",
    "    mod[0].zpowerlw.Redshift.values = (z_opt, -1)\n",
    "    mod[0].zpowerlw.norm.values = (1.e-2, 0.01, 5.e-3, 5.e-3, 0.5, 0.5)\n",
    "\n",
    "    # unfreeze constant for MOS spectra\n",
    "    mod[1].constant.factor.untie()\n",
    "    mod[1].constant.factor.values = (1, 0.01, 0.8, 0.8, 1.0, 1.0)\n",
    "    mod[2].constant.factor.untie()\n",
    "    mod[2].constant.factor.values = (1, 0.01, 0.8, 0.8, 1.0, 1.0)\n",
    "    \n",
    "    return mod,model_name\n",
    "\n",
    "def activate_mod2():\n",
    "    # same as mod1, but with added absorption component\n",
    "    model_name = 'mod2'\n",
    "    xspec.AllModels += (\"constant*(zTBabs*zpowerlw + zgauss)\",model_name)\n",
    "    mod = [xspec.AllModels(ii,model_name) for ii in (1,2,3)]\n",
    "\n",
    "    mod[0].constant.factor.values = (1,-1)  ## constant factor (frozen for pn)\n",
    "    \n",
    "    mod[0].zTBabs.Redshift.values = (z_opt, -1.)\n",
    "    mod[0].zTBabs.nH.values = (0.1, 0.01, 1e-1, 1e-1, 50., 50.)\n",
    "\n",
    "    mod[0].zpowerlw.PhoIndex.values = (1.95, -1) #<= fix this to speed up the fitting process (example only)\n",
    "    mod[0].zpowerlw.Redshift.values = (z_opt, -1.)\n",
    "    mod[0].zpowerlw.norm.values = (1.e-2, 0.01, 5.e-3, 5.e-3, 0.5, 0.5)\n",
    "\n",
    "    mod[0].zgauss.LineE.values = (6.4, -1)  #<= Fix as K-alpha\n",
    "    mod[0].zgauss.Sigma.values = (0.1, 0.01, 0.01, 0.01, 2., 2.)\n",
    "    mod[0].zgauss.Redshift.values = (z_opt, -1)\n",
    "    mod[0].zgauss.norm.values  = (1e-3, 0.01, 5e-4, 5e-4, 5e-3, 5e-3)\n",
    "\n",
    "    # unfreeze constant for MOS spectra\n",
    "    mod[1].constant.factor.untie()\n",
    "    mod[1].constant.factor.values = (1, 0.01, 0.8, 0.8, 1.0, 1.0)\n",
    "    mod[2].constant.factor.untie()\n",
    "    mod[2].constant.factor.values = (1, 0.01, 0.8, 0.8, 1.0, 1.0)\n",
    "    \n",
    "    return mod, model_name"
   ]
  },
  {
   "cell_type": "markdown",
   "id": "98640ae3",
   "metadata": {},
   "source": [
    "##### A note on creating the BXA solvers\n",
    "When creating these for a fit with multiple data groups in XSpec, the order of the priors in the solver is important. In particular, PlotBXA methods require the priors to be presented in the same order as the loaded spectra: first all priors associated with the parameters that are free in data group 1 (i.e. the first spectrum), then all the priors associated with data group 2 (the second spectrum), etc.\n",
    "\n",
    "In the example below, we pass the priors to the solver using the 'transformations' argument. For 'mod1' the first 2 priors relate to the pn spectrum (data group 1), the 3rd prior is for the constant scaling factor for the MOS1 spectrum (data group 2), and the 4th prior is the scaling factor for the MOS2 spectrum (data group 3). This order must be used for PlotBXA methods to correctly access the model components."
   ]
  },
  {
   "cell_type": "code",
   "execution_count": null,
   "id": "52bddcf4",
   "metadata": {},
   "outputs": [],
   "source": [
    "# Create solvers. \n",
    "# Note that there is a slight diffence with the case for only a single\n",
    "# loaded spectrum: we always need to call the model activation function\n",
    "# first. This is because as soon as a new model is defined, the models\n",
    "# associated with the spectra in data groups 2 and 3 will disappear (try it)\n",
    "# This means that we need to recreate them each time the solver will\n",
    "# need to access them.\n",
    "#\n",
    "# Model 1\n",
    "print('Model 1')\n",
    "with XSilence():\n",
    "    mod1,mname = activate_mod1()\n",
    "\n",
    "m1p1 = bxa.create_loguniform_prior_for(mod1[0],mod1[0].zTBabs.nH)\n",
    "m1p2 = bxa.create_loguniform_prior_for(mod1[0], mod1[0].zpowerlw.norm)\n",
    "m1p3 = bxa.create_uniform_prior_for(mod1[1], mod1[1].constant.factor)\n",
    "m1p4 = bxa.create_uniform_prior_for(mod1[2], mod1[2].constant.factor)\n",
    "\n",
    "solver1 = bxa.BXASolver(transformations=[m1p1,m1p2,m1p3,m1p4],\n",
    "                        outputfiles_basename=\"mod1_mult_ztb-zpl-zg\")\n",
    "\n",
    "# Model 2\n",
    "print('\\nModel 2')\n",
    "with XSilence():\n",
    "    mod2,mname = activate_mod2()\n",
    "    \n",
    "m2p1 = bxa.create_loguniform_prior_for(mod2[0], mod2[0].zTBabs.nH)\n",
    "m2p2 = bxa.create_loguniform_prior_for(mod2[0], mod2[0].zpowerlw.norm)\n",
    "m2p3 = bxa.create_loguniform_prior_for(mod2[0], mod2[0].zgauss.Sigma)\n",
    "m2p4 = bxa.create_loguniform_prior_for(mod2[0], mod2[0].zgauss.norm)\n",
    "m2p5 = bxa.create_uniform_prior_for(mod2[1], mod2[1].constant.factor)\n",
    "m2p6 = bxa.create_uniform_prior_for(mod2[2], mod2[2].constant.factor)\n",
    "\n",
    "solver2 = bxa.BXASolver(transformations=[m2p1,m2p2,m2p3,m2p4,m2p5,m2p6],\n",
    "                        outputfiles_basename=\"mod2_mult_ztb-zpl-zg\")"
   ]
  },
  {
   "cell_type": "code",
   "execution_count": null,
   "id": "b41cb128",
   "metadata": {},
   "outputs": [],
   "source": [
    "# predictive checks for e.g. the MOS1 spectrum\n",
    "with XSilence():\n",
    "    pbx.plot_model_instances([solver1,solver2],\n",
    "                             models=[activate_mod1,activate_mod2],\n",
    "                             idsp=2,                               #<= choose the spectrum\n",
    "                             nsample=25,print_values=False,\n",
    "                             ymin=1e-3,\n",
    "                             rebinsig=5,rebinbnum=20)     "
   ]
  },
  {
   "cell_type": "markdown",
   "id": "b2b5f1bc",
   "metadata": {},
   "source": [
    "#### Run the fits"
   ]
  },
  {
   "cell_type": "code",
   "execution_count": null,
   "id": "6075b408",
   "metadata": {},
   "outputs": [],
   "source": [
    "# As always, we need to point the solver to the active XSpec model. In this case,\n",
    "# we need to be a bit more specific than before: the priors (the solver's \n",
    "# 'transformations') need to be pointed to the model they belong to, i.e. the model\n",
    "# associated with the correct data group (spectrum) in XSpec\n",
    "\n",
    "# Model 1\n",
    "with XSilence():\n",
    "    mod1,_ = activate_mod1()\n",
    "    for t in solver1.transformations[:2]:         #<= the priors associated with data group 1 (pn)\n",
    "        t['model'] = mod1[0]\n",
    "    solver1.transformations[2]['model'] = mod1[1] #<= the prior for data group 2 (MOS1)\n",
    "    solver1.transformations[3]['model'] = mod1[2] #<= the prior for data group 3 (MOS2)\n",
    "\n",
    "    results1 = solver1.run(resume=True)"
   ]
  },
  {
   "cell_type": "code",
   "execution_count": null,
   "id": "c891db79",
   "metadata": {},
   "outputs": [],
   "source": [
    "# Model 2  ... another opportunity for a cup of tea (alternatively: this can of course be run on multiple cores,\n",
    "# following the example set out in mpi_bxa_example.py)\n",
    "with XSilence():\n",
    "    mod2,_ = activate_mod2()\n",
    "    for t in solver2.transformations[:4]:         #<= the priors associated with data group 1 (pn)\n",
    "        t['model'] = mod2[0]\n",
    "    solver2.transformations[4]['model'] = mod2[1] #<= the prior for data group 2 (MOS1)\n",
    "    solver2.transformations[5]['model'] = mod2[2] #<= the prior for data group 3 (MOS2)\n",
    "\n",
    "    results2 = solver2.run(resume=True)"
   ]
  },
  {
   "cell_type": "markdown",
   "id": "6a13384f",
   "metadata": {},
   "source": [
    "#### Evaluate the posteriors"
   ]
  },
  {
   "cell_type": "code",
   "execution_count": null,
   "id": "e41963e1",
   "metadata": {},
   "outputs": [],
   "source": [
    "# Overview of the fitted models\n",
    "with XSilence():\n",
    "    pbx.plot_data_and_predictionbands([solver1,solver2],\n",
    "                                      [activate_mod1,activate_mod2],\n",
    "                                      npost=50, #<= use only subset of the data to display the bands (for speed)\n",
    "                                      setxminorticks=[0.2,0.4,0.6,2,4,6],\n",
    "                                      ymin=1e-3,\n",
    "                                      rebinsig=5,rebinbnum=20)"
   ]
  },
  {
   "cell_type": "code",
   "execution_count": null,
   "id": "0cda4e21",
   "metadata": {},
   "outputs": [],
   "source": [
    "# QQ plot for pn\n",
    "with XSilence():\n",
    "    pbx.plot_qq([solver1,solver2],\n",
    "                models=[activate_mod1,activate_mod2],\n",
    "                quantile=0.495)"
   ]
  },
  {
   "cell_type": "code",
   "execution_count": null,
   "id": "4c81d7f1",
   "metadata": {},
   "outputs": [],
   "source": [
    "# QQ plot for MOS1\n",
    "with XSilence():\n",
    "    pbx.plot_qq([solver1,solver2],\n",
    "                models=[activate_mod1,activate_mod2],\n",
    "                idsp=2,\n",
    "                quantile=0.495)"
   ]
  },
  {
   "cell_type": "code",
   "execution_count": null,
   "id": "9f871a9f",
   "metadata": {},
   "outputs": [],
   "source": [
    "# And similarly for the QQ-difference plots: for pn\n",
    "with XSilence():\n",
    "    pbx.plot_qq_difference([solver1,solver2],\n",
    "                           models=[activate_mod1,activate_mod2],\n",
    "                           sim_data=True,nsample=50,\n",
    "                           quantile=0.495)"
   ]
  },
  {
   "cell_type": "code",
   "execution_count": null,
   "id": "86191036",
   "metadata": {},
   "outputs": [],
   "source": [
    "# ... and for MOS1\n",
    "with XSilence():\n",
    "    pbx.plot_qq_difference([solver1,solver2],\n",
    "                           models=[activate_mod1,activate_mod2],\n",
    "                           idsp=2,\n",
    "                           sim_data=True,nsample=50,\n",
    "                           quantile=0.495)"
   ]
  },
  {
   "cell_type": "code",
   "execution_count": null,
   "id": "31f68b13",
   "metadata": {},
   "outputs": [],
   "source": []
  },
  {
   "cell_type": "markdown",
   "id": "2fe8b88c",
   "metadata": {},
   "source": [
    "## 4) Additional plotting examples"
   ]
  },
  {
   "cell_type": "code",
   "execution_count": null,
   "id": "e6f437af",
   "metadata": {},
   "outputs": [],
   "source": [
    "# We can explore a particular parameter space using the priors. For example, we consider\n",
    "# the effect of increasing the effect of Galactic absorption: is it possible to capture\n",
    "# some observed curvature in the spectrum (using the same example data as above) with \n",
    "# only Galactic absorption, or do we need an extra model component?\n",
    "\n",
    "# -1- Define a test model\n",
    "with XSilence():\n",
    "    xspec.AllModels.clear()\n",
    "\n",
    "    model_name = 'mod_display'\n",
    "    xspec.AllModels += (\"TBabs*powerlaw\",model_name)\n",
    "    mod_display = xspec.AllModels(1,model_name)\n",
    "\n",
    "    mod_display.TBabs.nH.values = (0.5, 0.01, 1e-1, 1e-1, 2.0, 2.0) #<= let the absorbing column density vary\n",
    "\n",
    "    mod_display.powerlaw.PhoIndex.values = (1.95, -1.)              #<= freeze everything else\n",
    "    mod_display.powerlaw.norm.values = (0.1, -1.)\n",
    "\n",
    "# -2- Create a prior for the only free variable\n",
    "mdisp_prior = bxa.create_loguniform_prior_for(mod_display, mod_display.TBabs.nH)\n",
    "\n",
    "# -3- ... and pass that prior to the solver\n",
    "sdisp = bxa.BXASolver(transformations=[mdisp_prior],\n",
    "                      outputfiles_basename=\"mod_disp\")"
   ]
  },
  {
   "cell_type": "code",
   "execution_count": null,
   "id": "75102c55",
   "metadata": {},
   "outputs": [],
   "source": [
    "# and let's look at a possible range for N_H, using the plot_model_instances method and using\n",
    "# the pn data for comparison\n",
    "with XSilence():\n",
    "    pbx.plot_model_instances(sdisp,nsample=20,print_values=True,\n",
    "                             rebinsig=5,rebinbnum=20)"
   ]
  },
  {
   "cell_type": "code",
   "execution_count": null,
   "id": "6498373d",
   "metadata": {},
   "outputs": [],
   "source": []
  },
  {
   "cell_type": "code",
   "execution_count": null,
   "id": "87c88758",
   "metadata": {},
   "outputs": [],
   "source": []
  }
 ],
 "metadata": {
  "kernelspec": {
   "display_name": "Python 3 (ipykernel)",
   "language": "python",
   "name": "python3"
  },
  "language_info": {
   "codemirror_mode": {
    "name": "ipython",
    "version": 3
   },
   "file_extension": ".py",
   "mimetype": "text/x-python",
   "name": "python",
   "nbconvert_exporter": "python",
   "pygments_lexer": "ipython3",
   "version": "3.12.3"
  }
 },
 "nbformat": 4,
 "nbformat_minor": 5
}
